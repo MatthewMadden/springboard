{
 "cells": [
  {
   "cell_type": "code",
   "execution_count": 25,
   "metadata": {},
   "outputs": [
    {
     "name": "stdout",
     "output_type": "stream",
     "text": [
      "2.6.0\n",
      "2. Query all tasks\n",
      "('Badminton Court', '07', 383)\n",
      "('Massage Room 1', '07', 629)\n",
      "('Massage Room 2', '07', 111)\n",
      "('Pool Table', '07', 836)\n",
      "('Snooker Table', '07', 444)\n",
      "('Squash Court', '07', 440)\n",
      "('Table Tennis', '07', 403)\n",
      "('Tennis Court 1', '07', 408)\n",
      "('Tennis Court 2', '07', 389)\n"
     ]
    }
   ],
   "source": [
    "import sqlite3\n",
    "from sqlite3 import Error\n",
    "\n",
    " \n",
    "def create_connection(db_file):\n",
    "    \"\"\" create a database connection to the SQLite database\n",
    "        specified by the db_file\n",
    "    :param db_file: database file\n",
    "    :return: Connection object or None\n",
    "    \"\"\"\n",
    "    conn = None\n",
    "    try:\n",
    "        conn = sqlite3.connect(db_file)\n",
    "        print(sqlite3.version)\n",
    "    except Error as e:\n",
    "        print(e)\n",
    " \n",
    "    return conn\n",
    "\n",
    " \n",
    "def select_all_tasks(conn):\n",
    "    \"\"\"\n",
    "    Query all rows in the tasks table\n",
    "    :param conn: the Connection object\n",
    "    :return:\n",
    "    \"\"\"\n",
    "    cur = conn.cursor()\n",
    "    \n",
    "    query1 = \"\"\"\n",
    "        SELECT \n",
    "    f.name AS facility,\n",
    "    strftime('%m', b.starttime) AS month,\n",
    "    COUNT(CASE WHEN b.memid = 0 THEN 0 ELSE 1 END) AS booking_count\n",
    "FROM Facilities as f\n",
    "LEFT JOIN Bookings AS b ON b.facid = f.facid\n",
    "GROUP BY facility;\n",
    "        \"\"\"\n",
    "    cur.execute(query1)\n",
    " \n",
    "    rows = cur.fetchall()\n",
    " \n",
    "    for row in rows:\n",
    "        print(row)\n",
    "\n",
    "\n",
    "def main():\n",
    "    database = \"sqlite_db_pythonsqlite.db\"\n",
    " \n",
    "    # create a database connection\n",
    "    conn = create_connection(database)\n",
    "    with conn: \n",
    "        print(\"2. Query all tasks\")\n",
    "        select_all_tasks(conn)\n",
    " \n",
    " \n",
    "if __name__ == '__main__':\n",
    "    main()"
   ]
  },
  {
   "cell_type": "markdown",
   "metadata": {},
   "source": [
    "/* Q11: Produce a report of members and who recommended them in alphabetic surname,firstname order */\n",
    "\n",
    "\n",
    "/* Q12: Find the facilities with their usage by member, but not guests */\n",
    "\n",
    "\n",
    "/* Q13: Find the facilities usage by month, but not guests */"
   ]
  }
 ],
 "metadata": {
  "kernelspec": {
   "display_name": "Python 3",
   "language": "python",
   "name": "python3"
  },
  "language_info": {
   "codemirror_mode": {
    "name": "ipython",
    "version": 3
   },
   "file_extension": ".py",
   "mimetype": "text/x-python",
   "name": "python",
   "nbconvert_exporter": "python",
   "pygments_lexer": "ipython3",
   "version": "3.8.5"
  }
 },
 "nbformat": 4,
 "nbformat_minor": 4
}
